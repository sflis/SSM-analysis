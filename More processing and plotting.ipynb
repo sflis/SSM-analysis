{
 "cells": [
  {
   "cell_type": "code",
   "execution_count": null,
   "metadata": {},
   "outputs": [],
   "source": [
    "%matplotlib notebook\n",
    "%load_ext autoreload\n",
    "%autoreload 2\n",
    "\n",
    "import matplotlib.pyplot as plt\n",
    "import numpy as np\n",
    "import dashi\n",
    "dashi.visual()"
   ]
  },
  {
   "cell_type": "markdown",
   "metadata": {},
   "source": [
    "# Load and process some slow signal data"
   ]
  },
  {
   "cell_type": "code",
   "execution_count": null,
   "metadata": {},
   "outputs": [],
   "source": [
    "from ssm.core import pchain\n",
    "from ssm.core.util_pmodules import Aggregate,SimpleInjector\n",
    "from ssm.pmodules import *\n",
    "\n",
    "# initializing our process chain\n",
    "data_proc = pchain.ProcessingChain()\n",
    "\n",
    "reader = Reader('/home/sflis/CTA/projects/SSM-analysis/data/astri_onsky/d2019-05-08/Run13312.hdf5')\n",
    "data_proc.add(reader)\n",
    "#This module removes incomplete frames and marks bad and unstable pixels\n",
    "frame_cleaner = PFCleaner()\n",
    "data_proc.add(frame_cleaner)\n",
    "# A simple flat field computation based on the first 7000 frames\n",
    "sff = SimpleFF(0,7000)\n",
    "data_proc.add(sff)\n",
    "\n",
    "#The Aggregate module collects the computed object from the frame\n",
    "aggr = Aggregate([\"raw_resp\",\"simple_ff\"])\n",
    "data_proc.add(aggr)\n",
    "\n",
    "# Simple visualization of the chain\n",
    "print(data_proc)\n",
    "\n",
    "#Execute the chain\n",
    "data_proc.run()\n"
   ]
  },
  {
   "cell_type": "markdown",
   "metadata": {},
   "source": [
    "# Plot the processed data"
   ]
  },
  {
   "cell_type": "code",
   "execution_count": null,
   "metadata": {
    "scrolled": false
   },
   "outputs": [],
   "source": [
    "from CHECLabPy.plotting.camera import CameraImage\n",
    "\n",
    "data = aggr.aggr[\"raw_resp\"][0]\n",
    "ff = aggr.aggr['simple_ff'][0]\n",
    "\n",
    "time_averaged = np.mean(data.data,axis=0)\n",
    "camera_averaged = np.nanmean(data.data-ff,axis=1)\n",
    "#A time series plot\n",
    "plt.figure()\n",
    "plt.plot(data.time-data.time[0],camera_averaged)\n",
    "\n",
    "plt.xlabel('Time since run start (s)')\n",
    "plt.ylabel(\"Average amplitude (mV)\")\n",
    "\n",
    "#Different average camera images\n",
    "camera = CameraImage(data.xpix, data.ypix, data.size)\n",
    "camera.image = time_averaged\n",
    "camera.add_colorbar('Amplitdue (mV)')\n",
    "camera.ax.set_title('Raw Data')\n",
    "\n",
    "camera = CameraImage(data.xpix, data.ypix, data.size)\n",
    "camera.image = time_averaged -ff\n",
    "camera.add_colorbar('Amplitdue (mV)')\n",
    "camera.ax.set_title('Flat fielded')\n",
    "\n",
    "camera = CameraImage(data.xpix, data.ypix, data.size)\n",
    "camera.image = ff\n",
    "camera.add_colorbar('Amplitdue (mV)')\n",
    "camera.ax.set_title('Flat field coefficents')\n"
   ]
  },
  {
   "cell_type": "markdown",
   "metadata": {},
   "source": [
    "# More processing"
   ]
  },
  {
   "cell_type": "code",
   "execution_count": null,
   "metadata": {},
   "outputs": [],
   "source": [
    "from ssm.core.util_pmodules import SimpleInjector\n",
    "from ssm.pmodules import *\n",
    "from ssm import pmodules\n",
    "proc_chain = pchain.ProcessingChain()\n",
    "#Copy data so that we do not overwrite the original data\n",
    "ffdata = copy.deepcopy(data)\n",
    "# apply the flatfielding\n",
    "ffdata.data -=ff\n",
    "#The Simple injector just creates a frame with the content of the input dictionary\n",
    "injector =  SimpleInjector({'data':ffdata})\n",
    "proc_chain.add(injector)\n",
    "#Smoothing the signal maybe not so useful right now\n",
    "smooth =SmoothSlowSignal()\n",
    "proc_chain.add(smooth)\n",
    "#Finds hotspot clusters\n",
    "clust = pmodules.ClusterCleaning(1.,0.9)\n",
    "clust.in_data = 'data'#smooth.out_data\n",
    "proc_chain.add(clust)\n",
    "\n",
    "#The Aggregate module collects the computed object from the frame\n",
    "#We want the clusters and the smooth data\n",
    "aggr = Aggregate([\"clusters\",\"smooth_data\"])\n",
    "proc_chain.add(aggr)\n",
    "\n",
    "print(proc_chain)"
   ]
  },
  {
   "cell_type": "code",
   "execution_count": null,
   "metadata": {},
   "outputs": [],
   "source": [
    "proc_chain.run()"
   ]
  },
  {
   "cell_type": "code",
   "execution_count": null,
   "metadata": {},
   "outputs": [],
   "source": [
    "clusters = aggr.aggr['clusters'][0]\n",
    "smooth_data = aggr.aggr['smooth_data'][0]"
   ]
  },
  {
   "cell_type": "markdown",
   "metadata": {},
   "source": [
    "# Plotting camera image with highlited clusters"
   ]
  },
  {
   "cell_type": "code",
   "execution_count": null,
   "metadata": {},
   "outputs": [],
   "source": [
    "frame_n = 1000\n",
    "plt.set_cmap('Greys_r')\n",
    "\n",
    "#Different average camera images\n",
    "camera = CameraImage(smooth_data.xpix, smooth_data.ypix, smooth_data.size)\n",
    "im = copy.deepcopy(smooth_data.data[frame_n])\n",
    "im[np.isnan(im)] = np.nanmean(im)\n",
    "camera.image = im\n",
    "\n",
    "\n",
    "\n",
    "camera.add_colorbar('Amplitdue (mV)')\n",
    "camera.ax.set_title('Raw Data, {} clusters'.format(len(clusters[frame_n])))\n",
    "\n",
    "camera.highlight_pixels([item for sublist in clusters[frame_n] for item in sublist],color='r')\n",
    "camera.set_limits_minmax(-20,100)"
   ]
  },
  {
   "cell_type": "markdown",
   "metadata": {},
   "source": [
    "# Make movie"
   ]
  },
  {
   "cell_type": "code",
   "execution_count": null,
   "metadata": {},
   "outputs": [],
   "source": [
    "from ssm.putils import make_ssmovie\n",
    "#for each frame put all the cluster pixels in one list\n",
    "c = []\n",
    "for cc in clusters:\n",
    "    c.append([item for sublist in cc for item in sublist])\n",
    "#We only make the movie with every 200th frame\n",
    "sel = range(0,len(smooth_data.data),200)\n",
    "make_ssmovie(smooth_data,sel,c)\n"
   ]
  },
  {
   "cell_type": "markdown",
   "metadata": {},
   "source": [
    "# Watch movie"
   ]
  },
  {
   "cell_type": "code",
   "execution_count": null,
   "metadata": {},
   "outputs": [],
   "source": [
    "from IPython.display import Video\n",
    "Video(\"out.mp4\",width=1000)"
   ]
  },
  {
   "cell_type": "code",
   "execution_count": 1,
   "metadata": {},
   "outputs": [],
   "source": [
    "from ssm.putils import make_ssmovie\n",
    "make_ssmovie?"
   ]
  },
  {
   "cell_type": "code",
   "execution_count": null,
   "metadata": {},
   "outputs": [],
   "source": []
  }
 ],
 "metadata": {
  "kernelspec": {
   "display_name": "Python 3",
   "language": "python",
   "name": "python3"
  },
  "language_info": {
   "codemirror_mode": {
    "name": "ipython",
    "version": 3
   },
   "file_extension": ".py",
   "mimetype": "text/x-python",
   "name": "python",
   "nbconvert_exporter": "python",
   "pygments_lexer": "ipython3",
   "version": "3.7.3"
  }
 },
 "nbformat": 4,
 "nbformat_minor": 2
}
