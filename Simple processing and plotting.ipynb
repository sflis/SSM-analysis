{
 "cells": [
  {
   "cell_type": "code",
   "execution_count": null,
   "metadata": {},
   "outputs": [],
   "source": [
    "%matplotlib notebook\n",
    "%load_ext autoreload\n",
    "%autoreload 2\n",
    "\n",
    "import matplotlib.pyplot as plt\n",
    "import numpy as np\n"
   ]
  },
  {
   "cell_type": "markdown",
   "metadata": {},
   "source": [
    "# Load and process some slow signal data"
   ]
  },
  {
   "cell_type": "code",
   "execution_count": null,
   "metadata": {},
   "outputs": [],
   "source": [
    "from ssm.core import pchain\n",
    "from ssm.core.util_pmodules import Aggregate\n",
    "from ssm.pmodules import *\n",
    "\n",
    "# initializing our process chain\n",
    "data_proc = pchain.ProcessingChain()\n",
    "\n",
    "reader = Reader('/home/sflis/CTA/projects/SSM-analysis/data/astri_onsky/d2019-05-08/Run13312.hdf5')\n",
    "data_proc.add(reader)\n",
    "#This module removes incomplete frames and marks bad and unstable pixels\n",
    "frame_cleaner = PFCleaner()\n",
    "data_proc.add(frame_cleaner)\n",
    "# A simple flat field computation based on the first 7000 frames\n",
    "sff = SimpleFF(0,7000)\n",
    "data_proc.add(sff)\n",
    "\n",
    "#The Aggregate module collects the computed object from the frame\n",
    "aggr = Aggregate([\"raw_resp\",\"simple_ff\"])\n",
    "data_proc.add(aggr)\n",
    "\n",
    "# Simple visualization of the chain\n",
    "print(data_proc)\n",
    "\n",
    "#Execute the chain\n",
    "data_proc.run()\n"
   ]
  },
  {
   "cell_type": "markdown",
   "metadata": {},
   "source": [
    "# Plot the processed data"
   ]
  },
  {
   "cell_type": "code",
   "execution_count": null,
   "metadata": {
    "scrolled": false
   },
   "outputs": [],
   "source": [
    "from CHECLabPy.plotting.camera import CameraImage\n",
    "\n",
    "data = aggr.aggr[\"raw_resp\"][0]\n",
    "ff = aggr.aggr['simple_ff'][0]\n",
    "\n",
    "time_averaged = np.mean(data.data,axis=0)\n",
    "camera_averaged = np.nanmean(data.data-ff,axis=1)\n",
    "#A time series plot\n",
    "plt.figure()\n",
    "plt.plot(data.time-data.time[0],camera_averaged)\n",
    "\n",
    "plt.xlabel('Time since run start (s)')\n",
    "plt.ylabel(\"Average amplitude (mV)\")\n",
    "\n",
    "#Different average camera images\n",
    "camera = CameraImage(data.xpix, data.ypix, data.size)\n",
    "camera.image = time_averaged\n",
    "camera.add_colorbar('Amplitdue (mV)')\n",
    "camera.ax.set_title('Raw Data')\n",
    "\n",
    "camera = CameraImage(data.xpix, data.ypix, data.size)\n",
    "camera.image = time_averaged -ff\n",
    "camera.add_colorbar('Amplitdue (mV)')\n",
    "camera.ax.set_title('Flat fielded')\n",
    "\n",
    "camera = CameraImage(data.xpix, data.ypix, data.size)\n",
    "camera.image = ff\n",
    "camera.add_colorbar('Amplitdue (mV)')\n",
    "camera.ax.set_title('Flat field coefficents')\n"
   ]
  },
  {
   "cell_type": "code",
   "execution_count": null,
   "metadata": {},
   "outputs": [],
   "source": []
  }
 ],
 "metadata": {
  "kernelspec": {
   "display_name": "Python 3",
   "language": "python",
   "name": "python3"
  },
  "language_info": {
   "codemirror_mode": {
    "name": "ipython",
    "version": 3
   },
   "file_extension": ".py",
   "mimetype": "text/x-python",
   "name": "python",
   "nbconvert_exporter": "python",
   "pygments_lexer": "ipython3",
   "version": "3.7.3"
  }
 },
 "nbformat": 4,
 "nbformat_minor": 2
}
