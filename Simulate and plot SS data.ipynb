{
 "cells": [
  {
   "cell_type": "code",
   "execution_count": null,
   "metadata": {},
   "outputs": [],
   "source": [
    "%matplotlib notebook\n",
    "from importlib import reload\n",
    "import tables\n",
    "import numpy as np\n",
    "import dashi\n",
    "dashi.visual()\n",
    "import yaml\n",
    "\n",
    "import matplotlib as mpl\n",
    "from matplotlib import pyplot as plt\n",
    "import matplotlib.cm as cm\n",
    "from CHECLabPy.plotting.camera import CameraImage, CameraImageImshow\n",
    "from CHECLabPy.utils.mapping import get_clp_mapping_from_tc_mapping, \\\n",
    "    get_superpixel_mapping, get_tm_mapping\n",
    "import ssdaq\n",
    "from ssm.core.pchain import ProcessingChain, ProcessingModule"
   ]
  },
  {
   "cell_type": "code",
   "execution_count": null,
   "metadata": {},
   "outputs": [],
   "source": [
    "!python ssm/scripts/slowsignal_simulation.py -h"
   ]
  },
  {
   "cell_type": "code",
   "execution_count": null,
   "metadata": {},
   "outputs": [],
   "source": [
    "!python ssm/scripts/slowsignal_simulation.py"
   ]
  },
  {
   "cell_type": "markdown",
   "metadata": {},
   "source": [
    "## Load the simulation data"
   ]
  },
  {
   "cell_type": "code",
   "execution_count": null,
   "metadata": {},
   "outputs": [],
   "source": [
    "from ssm.core.sim_io import DataReader\n",
    "reader = DataReader('VegaTrack40minFlatNSB.hdf')\n",
    "print(reader)\n",
    "\n",
    "print('Simulation config:',reader.sim_attr_dict)\n"
   ]
  },
  {
   "cell_type": "code",
   "execution_count": null,
   "metadata": {},
   "outputs": [],
   "source": [
    "res = []\n",
    "res_r = []\n",
    "s_pos = []\n",
    "times = []\n",
    "for r in reader.read():\n",
    "    res.append(r.flatten())\n",
    "    res_r.append(reader.raw_data.flatten())\n",
    "    times.append(reader.cpu_t)\n",
    "    s_pos.append(reader.source_pos)\n",
    "s_pos = np.array(s_pos)"
   ]
  },
  {
   "cell_type": "markdown",
   "metadata": {},
   "source": [
    "# Look at the data"
   ]
  },
  {
   "cell_type": "markdown",
   "metadata": {},
   "source": [
    "## Plot of average amplitude over all data\n",
    "This effectively makes 'long exposure' plot"
   ]
  },
  {
   "cell_type": "code",
   "execution_count": null,
   "metadata": {},
   "outputs": [],
   "source": [
    "###### from CHECLabPy.core.io import DL1Reader, TIOReader\n",
    "from CHECLabPy.plotting.camera import CameraImage, CameraImageImshow\n",
    "from CHECLabPy.utils.mapping import get_clp_mapping_from_tc_mapping, \\\n",
    "    get_superpixel_mapping, get_tm_mapping\n",
    "from target_calib import CameraConfiguration\n",
    "c = CameraConfiguration(\"1.1.0\")\n",
    "m = c.GetMapping()\n",
    "xpix = np.array(m.GetXPixVector())\n",
    "ypix = np.array(m.GetYPixVector())\n",
    "size = m.GetSize()\n",
    "camera = CameraImage(xpix, ypix, size)\n",
    "camera.add_colorbar('$\\log_{10}$(amplitude/mV)')\n",
    "im=(np.sum(res,axis=0)/len(res)) \n",
    "im = np.log10(im+0.0001)\n",
    "camera.image =im\n",
    "plt.plot(s_pos[0,:,0]*1e-3,s_pos[0,:,1]*1e-3,'*')\n"
   ]
  },
  {
   "cell_type": "markdown",
   "metadata": {},
   "source": [
    "## First frame\n",
    "Here we plot the first frame and plot on top hotspots (>170mV) and star positions"
   ]
  },
  {
   "cell_type": "code",
   "execution_count": null,
   "metadata": {
    "scrolled": false
   },
   "outputs": [],
   "source": [
    "camera = CameraImage(xpix, ypix, size)\n",
    "camera.add_colorbar('$\\log_{10}$(amplitude/mV)')\n",
    "from ssdaq.core.data_classes import ss_mappings\n",
    "im=(np.sum(res,axis=0)/len(res)) \n",
    "im = res[0]\n",
    "im = np.log10(im)\n",
    "camera.image =im\n",
    "peaks = np.where(res[0]>170)\n",
    "plt.plot(xpix[peaks],ypix[peaks],'ro')\n",
    "print(\"Number of peaks found {}\".format(peaks[0].shape[0]))\n",
    "plt.plot(s_pos[0,:,0]*1e-3,s_pos[0,:,1]*1e-3,'*')"
   ]
  },
  {
   "cell_type": "markdown",
   "metadata": {},
   "source": [
    "## Make pixel neigbor map\n",
    "Finding neigboring pixels"
   ]
  },
  {
   "cell_type": "code",
   "execution_count": null,
   "metadata": {},
   "outputs": [],
   "source": [
    "from tqdm.auto import tqdm\n",
    "neighbors = []#[[]]*2048\n",
    "for i in range(2048):\n",
    "    neighbors.append([])\n",
    "for i in tqdm(range(2048),total=2048):\n",
    "    for j in range(i+1,2048):\n",
    "\n",
    "        dx = xpix[i]-xpix[j]\n",
    "        dy = ypix[i]-ypix[j]\n",
    "            \n",
    "        if(np.sqrt(dx**2+dy**2)<11e-3):\n",
    "            neighbors[i].append(j)\n",
    "            neighbors[j].append(i)"
   ]
  },
  {
   "cell_type": "markdown",
   "metadata": {},
   "source": [
    "## Build cluster and cluster evolutions\n",
    "A first atempt at a clustering algorithm to reduce the number of pixels that will be used in the reconstruction"
   ]
  },
  {
   "cell_type": "code",
   "execution_count": null,
   "metadata": {
    "scrolled": true
   },
   "outputs": [],
   "source": [
    "def cluster_build(i,res,lot,visited):\n",
    "    cluster = []\n",
    "    visited.append(i)\n",
    "    if(res[i]>lot):\n",
    "        cluster.append(i)\n",
    "        for n in neighbors[i]:\n",
    "            if n in visited:\n",
    "                continue\n",
    "            cluster += cluster_build(n,res,lot,visited)\n",
    "    return cluster\n",
    "def find_clusters(res,upthreshold,lothreshold):\n",
    "    peaks = np.where(res>upthreshold)\n",
    "    clusters = []\n",
    "    for peak in peaks[0]:\n",
    "        in_c = False\n",
    "        for c in clusters:\n",
    "            if peak in c:\n",
    "                in_c = True\n",
    "                break\n",
    "        \n",
    "        if in_c:\n",
    "            continue\n",
    "        clusters.append(cluster_build(peak,res,lothreshold,[peak]))\n",
    "    return clusters\n",
    "\n",
    "def get_cluster_evolution(clusters,res,upthreshold,lothreshold):\n",
    "    cmasks = []\n",
    "    sress = []\n",
    "    pix_is = []\n",
    "    for p in tqdm(clusters,total=len(clusters)):\n",
    "        peak = p[0]\n",
    "        pix_ind = set(list(p))\n",
    "        sres = []\n",
    "        for r in res:\n",
    "            if(r[peak]<90):\n",
    "                break\n",
    "            ci = cluster_build(peak,r,lothreshold,[peak])\n",
    "            pix_ind = pix_ind.union(ci)\n",
    "\n",
    "            cm = np.zeros(r.shape, dtype=bool)\n",
    "            cm[ci] =True\n",
    "            rr = r.copy()\n",
    "            rr[~cm] = 0\n",
    "\n",
    "            maxv = np.nanmax(rr)\n",
    "            peak = np.nanargmax(rr)\n",
    "\n",
    "            cmasks.append(ci)\n",
    "            sres.append(rr)\n",
    "        pix_is.append(np.array(list(pix_ind)))\n",
    "        sress.append(sres)\n",
    "    return sress,pix_is\n",
    "\n",
    "clusters = find_clusters(res[0], 170,90)\n",
    "sress,ipixs = get_cluster_evolution(clusters,res,170,90)\n",
    "print(\"Found {} clusters\".format(len(ipixs)))"
   ]
  },
  {
   "cell_type": "markdown",
   "metadata": {},
   "source": [
    "## Plotting data from one cluster"
   ]
  },
  {
   "cell_type": "code",
   "execution_count": null,
   "metadata": {},
   "outputs": [],
   "source": [
    "camera = CameraImage(xpix, ypix, size)\n",
    "camera.add_colorbar('$\\log_{10}$(amplitude/mV)')\n",
    "im = np.zeros(res[0].shape)\n",
    "for i in range(len(sress)):\n",
    "    if(i==1):\n",
    "        im+=(np.sum(sress[i],axis=0)/len(res)) \n",
    "im = np.log10(im+0.000001)\n",
    "camera.image =im\n",
    "\n",
    "plt.plot(s_pos[0,:,0]*1e-3,s_pos[0,:,1]*1e-3,'*')\n"
   ]
  },
  {
   "cell_type": "code",
   "execution_count": null,
   "metadata": {},
   "outputs": [],
   "source": []
  }
 ],
 "metadata": {
  "kernelspec": {
   "display_name": "Python 3",
   "language": "python",
   "name": "python3"
  },
  "language_info": {
   "codemirror_mode": {
    "name": "ipython",
    "version": 3
   },
   "file_extension": ".py",
   "mimetype": "text/x-python",
   "name": "python",
   "nbconvert_exporter": "python",
   "pygments_lexer": "ipython3",
   "version": "3.6.8"
  }
 },
 "nbformat": 4,
 "nbformat_minor": 2
}
